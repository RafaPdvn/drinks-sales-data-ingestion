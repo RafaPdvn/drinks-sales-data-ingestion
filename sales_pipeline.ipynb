{
 "cells": [
  {
   "cell_type": "markdown",
   "id": "f4dee108-0562-4d3e-85d8-34ea17c8f235",
   "metadata": {
    "jp-MarkdownHeadingCollapsed": true
   },
   "source": [
    "#### Libraries"
   ]
  },
  {
   "cell_type": "code",
   "execution_count": 1,
   "id": "a5edcbb3-5522-49e0-8e9b-3c33c91779b8",
   "metadata": {},
   "outputs": [],
   "source": [
    "# from coe_dataproc.monitoria import Monitoria\n",
    "# from coe_dataproc.decorator import dataproc\n",
    "# from datetime import datetime, timedelta\n",
    "# import logging\n",
    "# import sys\n",
    "# from pyspark.sql import SparkSession, SQLContext\n",
    "# from pyspark.sql.functions import *\n",
    "# import pyspark.sql.functions as F\n",
    "# from pyspark.sql.functions import year as spark_year\n",
    "# from pyspark.sql.types import *\n",
    "# from pyspark import SparkContext, SparkConf\n",
    "# import base64\n",
    "# from google.cloud import storage, secretmanager, bigquery\n",
    "# import unidecode\n",
    "# import datetime\n",
    "# from pyspark.sql.window import Window\n",
    "\n",
    "from pyspark.sql import SparkSession, SQLContext\n",
    "from pyspark.sql.functions import *\n",
    "import pyspark.sql.functions as F\n",
    "from pyspark.sql.functions import year as spark_year\n",
    "from pyspark.sql.types import *\n",
    "from pyspark import SparkContext, SparkConf\n",
    "from pyspark.sql.window import Window"
   ]
  },
  {
   "cell_type": "markdown",
   "id": "0609bdac-632a-4eb7-b934-e9a7c665b262",
   "metadata": {},
   "source": [
    "#### Spark session init"
   ]
  },
  {
   "cell_type": "code",
   "execution_count": 3,
   "id": "a34e1f98-1afe-4ee9-8a4a-6e34bfa78f73",
   "metadata": {},
   "outputs": [],
   "source": [
    "conf = SparkConf().setAppName('business_case').set(\"spark.sql.sources.partitionOverwriteMode\", \"dynamic\") \\\n",
    "                                      .set(\"hive.exec.dynamic.partition\", \"true\") \\\n",
    "                                      .set(\"spark.sql.debug.maxToStringFields\", 1000) \\\n",
    "                                      .set(\"hive.exec.dynamic.partition.mode\", \"nonstrict\") \\\n",
    "                                      .set(\"mapreduce.fileoutputcommitter.marksuccessfuljobs\", \"false\") \\\n",
    "                                      .set(\"viewsEnabled\",\"true\")\\\n",
    "                                      .set(\"materializationExpirationTimeInMinutes\",\"20\") \n",
    "    \n",
    "spark = SparkSession.builder.config(conf=conf).enableHiveSupport().getOrCreate()\n",
    "sc=spark.sparkContext\n",
    "sqlContext = SQLContext(sc)"
   ]
  },
  {
   "cell_type": "code",
   "execution_count": 4,
   "id": "d6d43f2b-9c6b-4652-a049-5a1703185b9a",
   "metadata": {},
   "outputs": [
    {
     "data": {
      "text/html": [
       "\n",
       "            <div>\n",
       "                <p><b>SparkSession - hive</b></p>\n",
       "                \n",
       "        <div>\n",
       "            <p><b>SparkContext</b></p>\n",
       "\n",
       "            <p><a href=\"http://Rafinha-PC:4040\">Spark UI</a></p>\n",
       "\n",
       "            <dl>\n",
       "              <dt>Version</dt>\n",
       "                <dd><code>v3.5.1</code></dd>\n",
       "              <dt>Master</dt>\n",
       "                <dd><code>local[*]</code></dd>\n",
       "              <dt>AppName</dt>\n",
       "                <dd><code>business_case</code></dd>\n",
       "            </dl>\n",
       "        </div>\n",
       "        \n",
       "            </div>\n",
       "        "
      ],
      "text/plain": [
       "<pyspark.sql.session.SparkSession at 0x28429191f50>"
      ]
     },
     "execution_count": 4,
     "metadata": {},
     "output_type": "execute_result"
    }
   ],
   "source": [
    "spark"
   ]
  },
  {
   "cell_type": "markdown",
   "id": "7ac0c0c6-6e80-4502-aa93-3ba4f402f7c6",
   "metadata": {},
   "source": [
    "#### Load DataSets"
   ]
  },
  {
   "cell_type": "code",
   "execution_count": 20,
   "id": "c105e4c3-caa8-4608-977f-0b878741f22d",
   "metadata": {},
   "outputs": [],
   "source": [
    "### Load Dataframes STAR - Usado para Joins ###\n",
    "sales_source = spark.read.option(\"delimiter\", \"\\t\")\\\n",
    "    .option(\"header\", True)\\\n",
    "    .option(\"encoding\", \"UTF-16\")\\\n",
    "    .csv(\"abi_bus_case1_beverage_sales_20210726.csv\")\n",
    "\n",
    "channel_source = spark.read.option(\"delimiter\", \",\")\\\n",
    "    .option(\"header\", True)\\\n",
    "    .csv(\"abi_bus_case1_beverage_channel_group_20210726.csv\")"
   ]
  },
  {
   "cell_type": "code",
   "execution_count": 21,
   "id": "c4289f9b-42bd-478b-a334-a931906ed051",
   "metadata": {},
   "outputs": [
    {
     "name": "stdout",
     "output_type": "stream",
     "text": [
      "root\n",
      " |-- DATE: string (nullable = true)\n",
      " |-- CE_BRAND_FLVR: string (nullable = true)\n",
      " |-- BRAND_NM: string (nullable = true)\n",
      " |-- Btlr_Org_LVL_C_Desc: string (nullable = true)\n",
      " |-- CHNL_GROUP: string (nullable = true)\n",
      " |-- TRADE_CHNL_DESC: string (nullable = true)\n",
      " |-- PKG_CAT: string (nullable = true)\n",
      " |-- Pkg_Cat_Desc: string (nullable = true)\n",
      " |-- TSR_PCKG_NM: string (nullable = true)\n",
      " |-- $ Volume: string (nullable = true)\n",
      " |-- YEAR: string (nullable = true)\n",
      " |-- MONTH: string (nullable = true)\n",
      " |-- PERIOD: string (nullable = true)\n",
      "\n"
     ]
    }
   ],
   "source": [
    "sales_source.printSchema()"
   ]
  },
  {
   "cell_type": "code",
   "execution_count": 22,
   "id": "3e4e38e2-f38a-4adc-b013-0a7f4c7bc1cb",
   "metadata": {},
   "outputs": [
    {
     "name": "stdout",
     "output_type": "stream",
     "text": [
      "root\n",
      " |-- TRADE_CHNL_DESC: string (nullable = true)\n",
      " |-- TRADE_GROUP_DESC: string (nullable = true)\n",
      " |-- TRADE_TYPE_DESC: string (nullable = true)\n",
      "\n"
     ]
    }
   ],
   "source": [
    "channel_source.printSchema()"
   ]
  },
  {
   "cell_type": "code",
   "execution_count": 23,
   "id": "f039ea2a-1b59-4765-9ab2-ebfb0da6eba4",
   "metadata": {
    "scrolled": true
   },
   "outputs": [
    {
     "name": "stdout",
     "output_type": "stream",
     "text": [
      "+--------+-------------+-----------+-------------------+------------------+--------------------+-------+------------+-------------+--------+----+-----+------+\n",
      "|    DATE|CE_BRAND_FLVR|   BRAND_NM|Btlr_Org_LVL_C_Desc|        CHNL_GROUP|     TRADE_CHNL_DESC|PKG_CAT|Pkg_Cat_Desc|  TSR_PCKG_NM|$ Volume|YEAR|MONTH|PERIOD|\n",
      "+--------+-------------+-----------+-------------------+------------------+--------------------+-------+------------+-------------+--------+----+-----+------+\n",
      "|       �|         NULL|       NULL|               NULL|              NULL|                NULL|   NULL|        NULL|         NULL|    NULL|NULL| NULL|  NULL|\n",
      "|1/1/2006|         3440|      LEMON|             CANADA|           LEISURE|         SPORT VENUE|   N20O|   20Z/600ML|.591L NRP 24L|   22.48|2006|    1|    1�|\n",
      "|       �|         NULL|       NULL|               NULL|              NULL|                NULL|   NULL|        NULL|         NULL|    NULL|NULL| NULL|  NULL|\n",
      "|1/1/2006|         3440|      LEMON|          NORTHEAST|            SUPERS|           SUPERETTE|   N20O|   20Z/600ML|  20Z NRP 24L|     100|2006|    1|    1�|\n",
      "|       �|         NULL|       NULL|               NULL|              NULL|                NULL|   NULL|        NULL|         NULL|    NULL|NULL| NULL|  NULL|\n",
      "|1/1/2006|         3554| STRAWBERRY|          SOUTHEAST|         WORKPLACE|      PLANT / OFFICE|   N20O|   20Z/600ML|  20Z NRP 24L|   66.14|2006|    1|    1�|\n",
      "|       �|         NULL|       NULL|               NULL|              NULL|                NULL|   NULL|        NULL|         NULL|    NULL|NULL| NULL|  NULL|\n",
      "|1/1/2006|         3441|  RASPBERRY|            MIDWEST| MASS MERCHANDISER|   MASS MERCHANDISER|   N20O|   20Z/600ML|  20Z NRP 24L|   222.5|2006|    1|    1�|\n",
      "|       �|         NULL|       NULL|               NULL|              NULL|                NULL|   NULL|        NULL|         NULL|    NULL|NULL| NULL|  NULL|\n",
      "|1/1/2006|         3440|      LEMON|               WEST| MASS MERCHANDISER|   MASS MERCHANDISER|   N20O|   20Z/600ML|  20Z NRP 24L|   302.5|2006|    1|    1�|\n",
      "|       �|         NULL|       NULL|               NULL|              NULL|                NULL|   NULL|        NULL|         NULL|    NULL|NULL| NULL|  NULL|\n",
      "|1/1/2006|         3440|      LEMON|            MIDWEST|OTHER SMALL STORES|LIQUOR/BEER/WINE/...|   N20O|   20Z/600ML|  20Z NRP 24L|      10|2006|    1|    1�|\n",
      "|       �|         NULL|       NULL|               NULL|              NULL|                NULL|   NULL|        NULL|         NULL|    NULL|NULL| NULL|  NULL|\n",
      "|1/1/2006|         3441|  RASPBERRY|          SOUTHEAST|CONVENIENCE RETAIL|   CONVENIENCE STORE|   N56P|    500ML 6P|   .5L NRP 6P|   -4.22|2006|    1|    1�|\n",
      "|       �|         NULL|       NULL|               NULL|              NULL|                NULL|   NULL|        NULL|         NULL|    NULL|NULL| NULL|  NULL|\n",
      "|1/1/2006|         3554| STRAWBERRY|             CANADA|      FOOD SERVICE|QUICK SERVICE RES...|   N20O|   20Z/600ML|.591L NRP 24L|   59.95|2006|    1|    1�|\n",
      "|       �|         NULL|       NULL|               NULL|              NULL|                NULL|   NULL|        NULL|         NULL|    NULL|NULL| NULL|  NULL|\n",
      "|1/1/2006|         3554| STRAWBERRY|          SOUTHWEST|            SUPERS|         SUPERMARKET|   N20O|   20Z/600ML|20z NRP 24L S|     300|2006|    1|    1�|\n",
      "|       �|         NULL|       NULL|               NULL|              NULL|                NULL|   NULL|        NULL|         NULL|    NULL|NULL| NULL|  NULL|\n",
      "|1/1/2006|         3554| STRAWBERRY|          SOUTHEAST|      FOOD SERVICE|QUICK SERVICE RES...|   N20O|   20Z/600ML|  20Z NRP 24L|      85|2006|    1|    1�|\n",
      "+--------+-------------+-----------+-------------------+------------------+--------------------+-------+------------+-------------+--------+----+-----+------+\n",
      "only showing top 20 rows\n",
      "\n"
     ]
    }
   ],
   "source": [
    "sales_source.show()"
   ]
  },
  {
   "cell_type": "code",
   "execution_count": 31,
   "id": "8c68c967-b4c4-4220-847a-6b9f63039646",
   "metadata": {},
   "outputs": [
    {
     "name": "stdout",
     "output_type": "stream",
     "text": [
      "+--------+-------------+-----------+-------------------+------------------+------------------------+-------+------------+---------------+--------+----+-----+------+\n",
      "|DATE    |CE_BRAND_FLVR|BRAND_NM   |Btlr_Org_LVL_C_Desc|CHNL_GROUP        |TRADE_CHNL_DESC         |PKG_CAT|Pkg_Cat_Desc|TSR_PCKG_NM    |$ Volume|YEAR|MONTH|PERIOD|\n",
      "+--------+-------------+-----------+-------------------+------------------+------------------------+-------+------------+---------------+--------+----+-----+------+\n",
      "|1/1/2006|3440         | LEMON     |CANADA             |LEISURE           |SPORT VENUE             |N20O   |20Z/600ML   |.591L NRP 24L  |22.48   |2006|1    |1�    |\n",
      "|1/1/2006|3440         | LEMON     |NORTHEAST          |SUPERS            |SUPERETTE               |N20O   |20Z/600ML   |20Z NRP 24L    |100     |2006|1    |1�    |\n",
      "|1/1/2006|3554         | STRAWBERRY|SOUTHEAST          |WORKPLACE         |PLANT / OFFICE          |N20O   |20Z/600ML   |20Z NRP 24L    |66.14   |2006|1    |1�    |\n",
      "|1/1/2006|3441         | RASPBERRY |MIDWEST            |MASS MERCHANDISER |MASS MERCHANDISER       |N20O   |20Z/600ML   |20Z NRP 24L    |222.5   |2006|1    |1�    |\n",
      "|1/1/2006|3440         | LEMON     |WEST               |MASS MERCHANDISER |MASS MERCHANDISER       |N20O   |20Z/600ML   |20Z NRP 24L    |302.5   |2006|1    |1�    |\n",
      "|1/1/2006|3440         | LEMON     |MIDWEST            |OTHER SMALL STORES|LIQUOR/BEER/WINE/SOFT   |N20O   |20Z/600ML   |20Z NRP 24L    |10      |2006|1    |1�    |\n",
      "|1/1/2006|3441         | RASPBERRY |SOUTHEAST          |CONVENIENCE RETAIL|CONVENIENCE STORE       |N56P   |500ML 6P    |.5L NRP 6P     |-4.22   |2006|1    |1�    |\n",
      "|1/1/2006|3554         | STRAWBERRY|CANADA             |FOOD SERVICE      |QUICK SERVICE RESTAURANT|N20O   |20Z/600ML   |.591L NRP 24L  |59.95   |2006|1    |1�    |\n",
      "|1/1/2006|3554         | STRAWBERRY|SOUTHWEST          |SUPERS            |SUPERMARKET             |N20O   |20Z/600ML   |20z NRP 24L S  |300     |2006|1    |1�    |\n",
      "|1/1/2006|3554         | STRAWBERRY|SOUTHEAST          |FOOD SERVICE      |QUICK SERVICE RESTAURANT|N20O   |20Z/600ML   |20Z NRP 24L    |85      |2006|1    |1�    |\n",
      "|1/1/2006|3441         | RASPBERRY |GREAT LAKES        |FOOD SERVICE      |QUICK SERVICE RESTAURANT|N20O   |20Z/600ML   |20z NRP 24L S  |2.5     |2006|1    |1�    |\n",
      "|1/1/2006|3440         | LEMON     |GREAT LAKES        |OTHER SMALL STORES|ALL OTHER               |N20O   |20Z/600ML   |20z NRP 24L S  |2.5     |2006|1    |1�    |\n",
      "|1/1/2006|3554         | STRAWBERRY|MIDWEST            |FOOD SERVICE      |OTHER EATING + DRINKING |N20O   |20Z/600ML   |20Z NRP 24L    |45      |2006|1    |1�    |\n",
      "|1/1/2006|3441         | RASPBERRY |WEST               |FOOD SERVICE      |RESTAURANT              |N20O   |20Z/600ML   |20Z NRP 24L    |7.5     |2006|1    |1�    |\n",
      "|1/1/2006|3441         | RASPBERRY |WEST               |SUPERS            |HYPER-MERCHANDISER      |N20O   |20Z/600ML   |20Z NRP 24L    |396.87  |2006|1    |1�    |\n",
      "|1/1/2006|3554         | STRAWBERRY|GREAT LAKES        |DRUG STORES       |DRUG STORE              |N56P   |500ML 6P    |.5L NRP 6P     |35.92   |2006|1    |1�    |\n",
      "|1/1/2006|3554         | STRAWBERRY|CANADA             |TRANSPORTATION    |TRANSPORTATION          |N20O   |20Z/600ML   |.591L NRP 24L *|12.49   |2006|1    |1�    |\n",
      "|1/1/2006|3441         | RASPBERRY |MIDWEST            |SUPERS            |MILITARY-COMMISARY      |N56P   |500ML 6P    |.5L NRP 6P     |10.56   |2006|1    |1�    |\n",
      "|1/1/2006|3554         | STRAWBERRY|WEST               |DRUG STORES       |DRUG STORE              |N20O   |20Z/600ML   |20Z NRP 24L    |152.5   |2006|1    |1�    |\n",
      "|1/1/2006|3440         | LEMON     |SOUTHEAST          |MILITARY/GOVT     |MILITARY-OTHER          |N20O   |20Z/600ML   |20z NRP 24L S  |27.5    |2006|1    |1�    |\n",
      "+--------+-------------+-----------+-------------------+------------------+------------------------+-------+------------+---------------+--------+----+-----+------+\n",
      "only showing top 20 rows\n",
      "\n"
     ]
    }
   ],
   "source": [
    "sales_source.dropna().show(truncate=False)"
   ]
  },
  {
   "cell_type": "code",
   "execution_count": 32,
   "id": "4cb303e7-6ebf-4b52-bd3d-349576a09f9c",
   "metadata": {},
   "outputs": [
    {
     "name": "stdout",
     "output_type": "stream",
     "text": [
      "+--------------------+----------------+---------------+\n",
      "|     TRADE_CHNL_DESC|TRADE_GROUP_DESC|TRADE_TYPE_DESC|\n",
      "+--------------------+----------------+---------------+\n",
      "|         SPORT VENUE|   ENTERTAINMENT|      ALCOHOLIC|\n",
      "|           SUPERETTE|        SERVICES|            MIX|\n",
      "|      PLANT / OFFICE|        SERVICES|            MIX|\n",
      "|   MASS MERCHANDISER|         GROCERY|            MIX|\n",
      "|LIQUOR/BEER/WINE/...|         GROCERY|      ALCOHOLIC|\n",
      "|   CONVENIENCE STORE|        SERVICES|            MIX|\n",
      "|QUICK SERVICE RES...|   ENTERTAINMENT|      ALCOHOLIC|\n",
      "|         SUPERMARKET|         GROCERY|            MIX|\n",
      "|           ALL OTHER|           OTHER|            MIX|\n",
      "|OTHER EATING + DR...|        SERVICES|            MIX|\n",
      "|          RESTAURANT|   ENTERTAINMENT|      ALCOHOLIC|\n",
      "|  HYPER-MERCHANDISER|         GROCERY|            MIX|\n",
      "|          DRUG STORE|         GROCERY|            MIX|\n",
      "|      TRANSPORTATION|        SERVICES|  NON ALCOHOLIC|\n",
      "|  MILITARY-COMMISARY|  GOV & MILITARY|            MIX|\n",
      "|      MILITARY-OTHER|  GOV & MILITARY|            MIX|\n",
      "|  COLLEGE/UNIVERSITY|        ACADEMIC|  NON ALCOHOLIC|\n",
      "|PRIMARY/SECONDARY...|        ACADEMIC|  NON ALCOHOLIC|\n",
      "|   HEALTH / HOSPITAL|        ACADEMIC|  NON ALCOHOLIC|\n",
      "|GENERAL MERCHANDISER|         GROCERY|            MIX|\n",
      "+--------------------+----------------+---------------+\n",
      "only showing top 20 rows\n",
      "\n"
     ]
    }
   ],
   "source": [
    "channel_source.show()"
   ]
  },
  {
   "cell_type": "code",
   "execution_count": 33,
   "id": "4e07c30d-e020-47b2-a5cd-428463fd8391",
   "metadata": {},
   "outputs": [
    {
     "name": "stdout",
     "output_type": "stream",
     "text": [
      "+--------------------+--------+-------------+-----------+-------------------+------------------+-------+------------+---------------+--------+----+-----+------+----------------+---------------+\n",
      "|     TRADE_CHNL_DESC|    DATE|CE_BRAND_FLVR|   BRAND_NM|Btlr_Org_LVL_C_Desc|        CHNL_GROUP|PKG_CAT|Pkg_Cat_Desc|    TSR_PCKG_NM|$ Volume|YEAR|MONTH|PERIOD|TRADE_GROUP_DESC|TRADE_TYPE_DESC|\n",
      "+--------------------+--------+-------------+-----------+-------------------+------------------+-------+------------+---------------+--------+----+-----+------+----------------+---------------+\n",
      "|         SPORT VENUE|1/1/2006|         3440|      LEMON|             CANADA|           LEISURE|   N20O|   20Z/600ML|  .591L NRP 24L|   22.48|2006|    1|    1�|   ENTERTAINMENT|      ALCOHOLIC|\n",
      "|           SUPERETTE|1/1/2006|         3440|      LEMON|          NORTHEAST|            SUPERS|   N20O|   20Z/600ML|    20Z NRP 24L|     100|2006|    1|    1�|        SERVICES|            MIX|\n",
      "|      PLANT / OFFICE|1/1/2006|         3554| STRAWBERRY|          SOUTHEAST|         WORKPLACE|   N20O|   20Z/600ML|    20Z NRP 24L|   66.14|2006|    1|    1�|        SERVICES|            MIX|\n",
      "|   MASS MERCHANDISER|1/1/2006|         3441|  RASPBERRY|            MIDWEST| MASS MERCHANDISER|   N20O|   20Z/600ML|    20Z NRP 24L|   222.5|2006|    1|    1�|         GROCERY|            MIX|\n",
      "|   MASS MERCHANDISER|1/1/2006|         3440|      LEMON|               WEST| MASS MERCHANDISER|   N20O|   20Z/600ML|    20Z NRP 24L|   302.5|2006|    1|    1�|         GROCERY|            MIX|\n",
      "|LIQUOR/BEER/WINE/...|1/1/2006|         3440|      LEMON|            MIDWEST|OTHER SMALL STORES|   N20O|   20Z/600ML|    20Z NRP 24L|      10|2006|    1|    1�|         GROCERY|      ALCOHOLIC|\n",
      "|   CONVENIENCE STORE|1/1/2006|         3441|  RASPBERRY|          SOUTHEAST|CONVENIENCE RETAIL|   N56P|    500ML 6P|     .5L NRP 6P|   -4.22|2006|    1|    1�|        SERVICES|            MIX|\n",
      "|QUICK SERVICE RES...|1/1/2006|         3554| STRAWBERRY|             CANADA|      FOOD SERVICE|   N20O|   20Z/600ML|  .591L NRP 24L|   59.95|2006|    1|    1�|   ENTERTAINMENT|      ALCOHOLIC|\n",
      "|         SUPERMARKET|1/1/2006|         3554| STRAWBERRY|          SOUTHWEST|            SUPERS|   N20O|   20Z/600ML|  20z NRP 24L S|     300|2006|    1|    1�|         GROCERY|            MIX|\n",
      "|QUICK SERVICE RES...|1/1/2006|         3554| STRAWBERRY|          SOUTHEAST|      FOOD SERVICE|   N20O|   20Z/600ML|    20Z NRP 24L|      85|2006|    1|    1�|   ENTERTAINMENT|      ALCOHOLIC|\n",
      "|QUICK SERVICE RES...|1/1/2006|         3441|  RASPBERRY|        GREAT LAKES|      FOOD SERVICE|   N20O|   20Z/600ML|  20z NRP 24L S|     2.5|2006|    1|    1�|   ENTERTAINMENT|      ALCOHOLIC|\n",
      "|           ALL OTHER|1/1/2006|         3440|      LEMON|        GREAT LAKES|OTHER SMALL STORES|   N20O|   20Z/600ML|  20z NRP 24L S|     2.5|2006|    1|    1�|           OTHER|            MIX|\n",
      "|OTHER EATING + DR...|1/1/2006|         3554| STRAWBERRY|            MIDWEST|      FOOD SERVICE|   N20O|   20Z/600ML|    20Z NRP 24L|      45|2006|    1|    1�|        SERVICES|            MIX|\n",
      "|          RESTAURANT|1/1/2006|         3441|  RASPBERRY|               WEST|      FOOD SERVICE|   N20O|   20Z/600ML|    20Z NRP 24L|     7.5|2006|    1|    1�|   ENTERTAINMENT|      ALCOHOLIC|\n",
      "|  HYPER-MERCHANDISER|1/1/2006|         3441|  RASPBERRY|               WEST|            SUPERS|   N20O|   20Z/600ML|    20Z NRP 24L|  396.87|2006|    1|    1�|         GROCERY|            MIX|\n",
      "|          DRUG STORE|1/1/2006|         3554| STRAWBERRY|        GREAT LAKES|       DRUG STORES|   N56P|    500ML 6P|     .5L NRP 6P|   35.92|2006|    1|    1�|         GROCERY|            MIX|\n",
      "|      TRANSPORTATION|1/1/2006|         3554| STRAWBERRY|             CANADA|    TRANSPORTATION|   N20O|   20Z/600ML|.591L NRP 24L *|   12.49|2006|    1|    1�|        SERVICES|  NON ALCOHOLIC|\n",
      "|  MILITARY-COMMISARY|1/1/2006|         3441|  RASPBERRY|            MIDWEST|            SUPERS|   N56P|    500ML 6P|     .5L NRP 6P|   10.56|2006|    1|    1�|  GOV & MILITARY|            MIX|\n",
      "|          DRUG STORE|1/1/2006|         3554| STRAWBERRY|               WEST|       DRUG STORES|   N20O|   20Z/600ML|    20Z NRP 24L|   152.5|2006|    1|    1�|         GROCERY|            MIX|\n",
      "|      MILITARY-OTHER|1/1/2006|         3440|      LEMON|          SOUTHEAST|     MILITARY/GOVT|   N20O|   20Z/600ML|  20z NRP 24L S|    27.5|2006|    1|    1�|  GOV & MILITARY|            MIX|\n",
      "+--------------------+--------+-------------+-----------+-------------------+------------------+-------+------------+---------------+--------+----+-----+------+----------------+---------------+\n",
      "only showing top 20 rows\n",
      "\n"
     ]
    }
   ],
   "source": [
    "sales = sales_source.join(channel_source, [\"TRADE_CHNL_DESC\"],\"inner\")\n",
    "sales.show()"
   ]
  },
  {
   "cell_type": "code",
   "execution_count": 36,
   "id": "1438f6c8-2028-4874-a00e-1c9cd3dd7a50",
   "metadata": {},
   "outputs": [
    {
     "name": "stdout",
     "output_type": "stream",
     "text": [
      "+--------+-------------+-----------+-------------------+------------------+--------------------+----------------+---------------+-------+------------+---------------+--------+----+-----+------+\n",
      "|    DATE|CE_BRAND_FLVR|   BRAND_NM|Btlr_Org_LVL_C_Desc|        CHNL_GROUP|     TRADE_CHNL_DESC|TRADE_GROUP_DESC|TRADE_TYPE_DESC|PKG_CAT|Pkg_Cat_Desc|    TSR_PCKG_NM|$ Volume|YEAR|MONTH|PERIOD|\n",
      "+--------+-------------+-----------+-------------------+------------------+--------------------+----------------+---------------+-------+------------+---------------+--------+----+-----+------+\n",
      "|1/1/2006|         3440|      LEMON|             CANADA|           LEISURE|         SPORT VENUE|   ENTERTAINMENT|      ALCOHOLIC|   N20O|   20Z/600ML|  .591L NRP 24L|   22.48|2006|    1|    1�|\n",
      "|1/1/2006|         3440|      LEMON|          NORTHEAST|            SUPERS|           SUPERETTE|        SERVICES|            MIX|   N20O|   20Z/600ML|    20Z NRP 24L|     100|2006|    1|    1�|\n",
      "|1/1/2006|         3554| STRAWBERRY|          SOUTHEAST|         WORKPLACE|      PLANT / OFFICE|        SERVICES|            MIX|   N20O|   20Z/600ML|    20Z NRP 24L|   66.14|2006|    1|    1�|\n",
      "|1/1/2006|         3441|  RASPBERRY|            MIDWEST| MASS MERCHANDISER|   MASS MERCHANDISER|         GROCERY|            MIX|   N20O|   20Z/600ML|    20Z NRP 24L|   222.5|2006|    1|    1�|\n",
      "|1/1/2006|         3440|      LEMON|               WEST| MASS MERCHANDISER|   MASS MERCHANDISER|         GROCERY|            MIX|   N20O|   20Z/600ML|    20Z NRP 24L|   302.5|2006|    1|    1�|\n",
      "|1/1/2006|         3440|      LEMON|            MIDWEST|OTHER SMALL STORES|LIQUOR/BEER/WINE/...|         GROCERY|      ALCOHOLIC|   N20O|   20Z/600ML|    20Z NRP 24L|      10|2006|    1|    1�|\n",
      "|1/1/2006|         3441|  RASPBERRY|          SOUTHEAST|CONVENIENCE RETAIL|   CONVENIENCE STORE|        SERVICES|            MIX|   N56P|    500ML 6P|     .5L NRP 6P|   -4.22|2006|    1|    1�|\n",
      "|1/1/2006|         3554| STRAWBERRY|             CANADA|      FOOD SERVICE|QUICK SERVICE RES...|   ENTERTAINMENT|      ALCOHOLIC|   N20O|   20Z/600ML|  .591L NRP 24L|   59.95|2006|    1|    1�|\n",
      "|1/1/2006|         3554| STRAWBERRY|          SOUTHWEST|            SUPERS|         SUPERMARKET|         GROCERY|            MIX|   N20O|   20Z/600ML|  20z NRP 24L S|     300|2006|    1|    1�|\n",
      "|1/1/2006|         3554| STRAWBERRY|          SOUTHEAST|      FOOD SERVICE|QUICK SERVICE RES...|   ENTERTAINMENT|      ALCOHOLIC|   N20O|   20Z/600ML|    20Z NRP 24L|      85|2006|    1|    1�|\n",
      "|1/1/2006|         3441|  RASPBERRY|        GREAT LAKES|      FOOD SERVICE|QUICK SERVICE RES...|   ENTERTAINMENT|      ALCOHOLIC|   N20O|   20Z/600ML|  20z NRP 24L S|     2.5|2006|    1|    1�|\n",
      "|1/1/2006|         3440|      LEMON|        GREAT LAKES|OTHER SMALL STORES|           ALL OTHER|           OTHER|            MIX|   N20O|   20Z/600ML|  20z NRP 24L S|     2.5|2006|    1|    1�|\n",
      "|1/1/2006|         3554| STRAWBERRY|            MIDWEST|      FOOD SERVICE|OTHER EATING + DR...|        SERVICES|            MIX|   N20O|   20Z/600ML|    20Z NRP 24L|      45|2006|    1|    1�|\n",
      "|1/1/2006|         3441|  RASPBERRY|               WEST|      FOOD SERVICE|          RESTAURANT|   ENTERTAINMENT|      ALCOHOLIC|   N20O|   20Z/600ML|    20Z NRP 24L|     7.5|2006|    1|    1�|\n",
      "|1/1/2006|         3441|  RASPBERRY|               WEST|            SUPERS|  HYPER-MERCHANDISER|         GROCERY|            MIX|   N20O|   20Z/600ML|    20Z NRP 24L|  396.87|2006|    1|    1�|\n",
      "|1/1/2006|         3554| STRAWBERRY|        GREAT LAKES|       DRUG STORES|          DRUG STORE|         GROCERY|            MIX|   N56P|    500ML 6P|     .5L NRP 6P|   35.92|2006|    1|    1�|\n",
      "|1/1/2006|         3554| STRAWBERRY|             CANADA|    TRANSPORTATION|      TRANSPORTATION|        SERVICES|  NON ALCOHOLIC|   N20O|   20Z/600ML|.591L NRP 24L *|   12.49|2006|    1|    1�|\n",
      "|1/1/2006|         3441|  RASPBERRY|            MIDWEST|            SUPERS|  MILITARY-COMMISARY|  GOV & MILITARY|            MIX|   N56P|    500ML 6P|     .5L NRP 6P|   10.56|2006|    1|    1�|\n",
      "|1/1/2006|         3554| STRAWBERRY|               WEST|       DRUG STORES|          DRUG STORE|         GROCERY|            MIX|   N20O|   20Z/600ML|    20Z NRP 24L|   152.5|2006|    1|    1�|\n",
      "|1/1/2006|         3440|      LEMON|          SOUTHEAST|     MILITARY/GOVT|      MILITARY-OTHER|  GOV & MILITARY|            MIX|   N20O|   20Z/600ML|  20z NRP 24L S|    27.5|2006|    1|    1�|\n",
      "+--------+-------------+-----------+-------------------+------------------+--------------------+----------------+---------------+-------+------------+---------------+--------+----+-----+------+\n",
      "only showing top 20 rows\n",
      "\n"
     ]
    }
   ],
   "source": [
    "sales = sales.select(\"DATE\", \"CE_BRAND_FLVR\", \"BRAND_NM\", \"Btlr_Org_LVL_C_Desc\", \"CHNL_GROUP\", \"TRADE_CHNL_DESC\", \"TRADE_GROUP_DESC\", \"TRADE_TYPE_DESC\", \"PKG_CAT\", \"Pkg_Cat_Desc\", \"TSR_PCKG_NM\", \"$ Volume\", \"YEAR\", \"MONTH\", \"PERIOD\")\n",
    "sales.show()"
   ]
  },
  {
   "cell_type": "code",
   "execution_count": 39,
   "id": "76723116-34e2-4ef2-a129-89caf8e529fb",
   "metadata": {},
   "outputs": [
    {
     "name": "stdout",
     "output_type": "stream",
     "text": [
      "+-------------+-----------+\n",
      "|CE_BRAND_FLVR|   BRAND_NM|\n",
      "+-------------+-----------+\n",
      "|         3554| STRAWBERRY|\n",
      "|         3441|  RASPBERRY|\n",
      "|         3697|      GRAPE|\n",
      "|         3440|      LEMON|\n",
      "+-------------+-----------+\n",
      "\n"
     ]
    }
   ],
   "source": [
    "# Create temporary view\n",
    "sales.createOrReplaceTempView(\"sales\")\n",
    "spark.sql(\"SELECT DISTINCT CE_BRAND_FLVR, BRAND_NM FROM sales GROUP BY CE_BRAND_FLVR, BRAND_NM\").show()"
   ]
  },
  {
   "cell_type": "code",
   "execution_count": 40,
   "id": "88674551-8f8c-4277-b386-ee7a9fc04e04",
   "metadata": {},
   "outputs": [
    {
     "name": "stdout",
     "output_type": "stream",
     "text": [
      "+-------+------------+---------------+\n",
      "|PKG_CAT|Pkg_Cat_Desc|    TSR_PCKG_NM|\n",
      "+-------+------------+---------------+\n",
      "|   N128|12Z/355M 8NR|   12Z NRP 8P F|\n",
      "|   N56P|    500ML 6P|     .5L NRP 6P|\n",
      "|   N56P|    500ML 6P|   .5L NRP 6P S|\n",
      "|   N20O|   20Z/600ML|.591L NRP 24L *|\n",
      "|   N20O|   20Z/600ML|  .591L NRP 24L|\n",
      "|   N20O|   20Z/600ML|  20z NRP 24L S|\n",
      "|   N56P|    500ML 6P|    .5L NRP 6P*|\n",
      "|   N20O|   20Z/600ML|    20Z NRP 24L|\n",
      "+-------+------------+---------------+\n",
      "\n"
     ]
    }
   ],
   "source": [
    "spark.sql(\"SELECT DISTINCT PKG_CAT, Pkg_Cat_Desc, TSR_PCKG_NM FROM sales GROUP BY PKG_CAT, Pkg_Cat_Desc, TSR_PCKG_NM\").show()"
   ]
  },
  {
   "cell_type": "code",
   "execution_count": 43,
   "id": "c34620a8-d069-46b3-b9fc-e3878bb54b57",
   "metadata": {},
   "outputs": [
    {
     "name": "stdout",
     "output_type": "stream",
     "text": [
      "+-------------------+\n",
      "|Btlr_Org_LVL_C_Desc|\n",
      "+-------------------+\n",
      "|               WEST|\n",
      "|          SOUTHWEST|\n",
      "|            MIDWEST|\n",
      "|             CANADA|\n",
      "|          SOUTHEAST|\n",
      "|          NORTHEAST|\n",
      "|        GREAT LAKES|\n",
      "+-------------------+\n",
      "\n"
     ]
    }
   ],
   "source": [
    "spark.sql(\"SELECT DISTINCT Btlr_Org_LVL_C_Desc FROM sales\").show()"
   ]
  },
  {
   "cell_type": "code",
   "execution_count": 46,
   "id": "eefbc51b-a743-48b8-a59d-2b813e28d9ac",
   "metadata": {},
   "outputs": [
    {
     "name": "stdout",
     "output_type": "stream",
     "text": [
      "+------------------+--------------------+----------------+---------------+\n",
      "|        CHNL_GROUP|     TRADE_CHNL_DESC|TRADE_GROUP_DESC|TRADE_TYPE_DESC|\n",
      "+------------------+--------------------+----------------+---------------+\n",
      "|OTHER SMALL STORES|LOCAL+TRADITIONAL...|         GROCERY|            MIX|\n",
      "|             CLUBS| CASH + CARRY RETAIL|         GROCERY|            MIX|\n",
      "|       RETAIL COLD|RETAIL SPECIALITY...|         GROCERY|      ALCOHOLIC|\n",
      "|           LEISURE|         SPORT VENUE|   ENTERTAINMENT|      ALCOHOLIC|\n",
      "|         EDUCATION|PRIMARY/SECONDARY...|        ACADEMIC|  NON ALCOHOLIC|\n",
      "|         WHOLESALE|           WHOLESALE|         GROCERY|            MIX|\n",
      "|         EDUCATION|  COLLEGE/UNIVERSITY|        ACADEMIC|  NON ALCOHOLIC|\n",
      "|CONVENIENCE RETAIL|   CONVENIENCE STORE|        SERVICES|            MIX|\n",
      "|OTHER SMALL STORES|           ALL OTHER|           OTHER|            MIX|\n",
      "| MASS MERCHANDISER|   MASS MERCHANDISER|         GROCERY|            MIX|\n",
      "|       RETAIL COLD|GENERAL MERCHANDISER|         GROCERY|            MIX|\n",
      "|      FOOD SERVICE|          RESTAURANT|   ENTERTAINMENT|      ALCOHOLIC|\n",
      "|    TRANSPORTATION|      TRANSPORTATION|        SERVICES|  NON ALCOHOLIC|\n",
      "|       DRUG STORES|          DRUG STORE|         GROCERY|            MIX|\n",
      "|OTHER SMALL STORES|   MILITARY-EXCHANGE|  GOV & MILITARY|            MIX|\n",
      "|            SUPERS|  MILITARY-COMMISARY|  GOV & MILITARY|            MIX|\n",
      "|      FOOD SERVICE|QUICK SERVICE RES...|   ENTERTAINMENT|      ALCOHOLIC|\n",
      "|         WORKPLACE|      PLANT / OFFICE|        SERVICES|            MIX|\n",
      "|           LEISURE|             LODGING|   ENTERTAINMENT|      ALCOHOLIC|\n",
      "|     MILITARY/GOVT|GOVERNMENT(NON-MI...|  GOV & MILITARY|  NON ALCOHOLIC|\n",
      "+------------------+--------------------+----------------+---------------+\n",
      "only showing top 20 rows\n",
      "\n"
     ]
    }
   ],
   "source": [
    "spark.sql(\"SELECT DISTINCT TRADE_CHNL_DESC, CHNL_GROUP, TRADE_GROUP_DESC, TRADE_TYPE_DESC FROM sales GROUP BY CHNL_GROUP, TRADE_CHNL_DESC, TRADE_GROUP_DESC, TRADE_TYPE_DESC\").show()"
   ]
  },
  {
   "cell_type": "code",
   "execution_count": null,
   "id": "b490365a-02f9-4d06-b685-eb8d56b8df30",
   "metadata": {},
   "outputs": [],
   "source": []
  }
 ],
 "metadata": {
  "kernelspec": {
   "display_name": "Python 3 (ipykernel)",
   "language": "python",
   "name": "python3"
  },
  "language_info": {
   "codemirror_mode": {
    "name": "ipython",
    "version": 3
   },
   "file_extension": ".py",
   "mimetype": "text/x-python",
   "name": "python",
   "nbconvert_exporter": "python",
   "pygments_lexer": "ipython3",
   "version": "3.11.7"
  }
 },
 "nbformat": 4,
 "nbformat_minor": 5
}
